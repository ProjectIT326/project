{
  "metadata": {
    "kernelspec": {
      "name": "python",
      "display_name": "Python (Pyodide)",
      "language": "python"
    },
    "language_info": {
      "codemirror_mode": {
        "name": "python",
        "version": 3
      },
      "file_extension": ".py",
      "mimetype": "text/x-python",
      "name": "python",
      "nbconvert_exporter": "python",
      "pygments_lexer": "ipython3",
      "version": "3.8"
    }
  },
  "nbformat_minor": 4,
  "nbformat": 4,
  "cells": [
    {
      "cell_type": "code",
      "source": "import pandas as pd\nimport matplotlib.pyplot as plt\ndf = pd.read_csv('../dateset/StressLevelDataset.csv')\ndf1=pd.DataFrame(df)\nprint(df1)",
      "metadata": {
        "trusted": true
      },
      "outputs": [
        {
          "name": "stdout",
          "text": "      anxiety_level  self_esteem  mental_health_history  depression  headache  \\\n0                14           20                      0          11         2   \n1                15            8                      1          15         5   \n2                12           18                      1          14         2   \n3                16           12                      1          15         4   \n4                16           28                      0           7         2   \n...             ...          ...                    ...         ...       ...   \n1095             11           17                      0          14         3   \n1096              9           12                      0           8         0   \n1097              4           26                      0           3         1   \n1098             21            0                      1          19         5   \n1099             18            6                      1          15         3   \n\n      blood_pressure  sleep_quality  breathing_problem  noise_level  \\\n0                  1              2                  4            2   \n1                  3              1                  4            3   \n2                  1              2                  2            2   \n3                  3              1                  3            4   \n4                  3              5                  1            3   \n...              ...            ...                ...          ...   \n1095               1              3                  2            2   \n1096               3              0                  0            0   \n1097               2              5                  2            2   \n1098               3              1                  4            3   \n1099               3              0                  3            3   \n\n      living_conditions  ...  basic_needs  academic_performance  study_load  \\\n0                     3  ...            2                     3           2   \n1                     1  ...            2                     1           4   \n2                     2  ...            2                     2           3   \n3                     2  ...            2                     2           4   \n4                     2  ...            3                     4           3   \n...                 ...  ...          ...                   ...         ...   \n1095                  2  ...            3                     2           2   \n1096                  1  ...            4                     0           1   \n1097                  3  ...            4                     5           1   \n1098                  1  ...            1                     2           5   \n1099                  0  ...            3                     3           4   \n\n      teacher_student_relationship  future_career_concerns  social_support  \\\n0                                3                       3               2   \n1                                1                       5               1   \n2                                3                       2               2   \n3                                1                       4               1   \n4                                1                       2               1   \n...                            ...                     ...             ...   \n1095                             2                       3               3   \n1096                             1                       1               1   \n1097                             4                       1               3   \n1098                             1                       4               1   \n1099                             3                       3               1   \n\n      peer_pressure  extracurricular_activities  bullying  stress_level  \n0                 3                           3         2             1  \n1                 4                           5         5             2  \n2                 3                           2         2             1  \n3                 4                           4         5             2  \n4                 5                           0         5             1  \n...             ...                         ...       ...           ...  \n1095              2                           3         3             1  \n1096              3                           4         3             2  \n1097              1                           2         1             0  \n1098              4                           4         4             2  \n1099              5                           1         4             2  \n\n[1100 rows x 21 columns]\n",
          "output_type": "stream"
        }
      ],
      "execution_count": 2
    },
    {
      "cell_type": "code",
      "source": "num_attributes = len(df.columns)\nnum_objects = len(df)\n\nprint(\"Number of attributes:\",num_attributes)\nprint(\"Number of objects:\",num_objects)",
      "metadata": {
        "trusted": true
      },
      "outputs": [
        {
          "name": "stdout",
          "text": "Number of attributes: 21\nNumber of objects: 1100\n",
          "output_type": "stream"
        }
      ],
      "execution_count": 6
    },
    {
      "cell_type": "code",
      "source": "attribute_types = df.dtypes\nprint(\"attribute types:\\n\",attribute_types)",
      "metadata": {
        "trusted": true
      },
      "outputs": [
        {
          "name": "stdout",
          "text": "attribute types:\n anxiety_level                   int64\nself_esteem                     int64\nmental_health_history           int64\ndepression                      int64\nheadache                        int64\nblood_pressure                  int64\nsleep_quality                   int64\nbreathing_problem               int64\nnoise_level                     int64\nliving_conditions               int64\nsafety                          int64\nbasic_needs                     int64\nacademic_performance            int64\nstudy_load                      int64\nteacher_student_relationship    int64\nfuture_career_concerns          int64\nsocial_support                  int64\npeer_pressure                   int64\nextracurricular_activities      int64\nbullying                        int64\nstress_level                    int64\ndtype: object\n",
          "output_type": "stream"
        }
      ],
      "execution_count": 7
    },
    {
      "cell_type": "code",
      "source": "class_labels = df['stress_level'].unique()\nprint(\"class labels:\", class_labels)",
      "metadata": {
        "trusted": true
      },
      "outputs": [
        {
          "name": "stdout",
          "text": "class labels: [1 2 0]\n",
          "output_type": "stream"
        }
      ],
      "execution_count": 10
    },
    {
      "cell_type": "code",
      "source": "",
      "metadata": {
        "trusted": true
      },
      "outputs": [],
      "execution_count": null
    }
  ]
}
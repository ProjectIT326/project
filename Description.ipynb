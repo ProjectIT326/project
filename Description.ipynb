{
  "metadata": {
    "kernelspec": {
      "name": "python",
      "display_name": "Python (Pyodide)",
      "language": "python"
    },
    "language_info": {
      "codemirror_mode": {
        "name": "python",
        "version": 3
      },
      "file_extension": ".py",
      "mimetype": "text/x-python",
      "name": "python",
      "nbconvert_exporter": "python",
      "pygments_lexer": "ipython3",
      "version": "3.8"
    }
  },
  "nbformat_minor": 4,
  "nbformat": 4,
  "cells": [
    {
      "cell_type": "markdown",
      "source": "#### Generel information:\n- [The source](https://www.kaggle.com/datasets/rxnach/student-stress-factors-a-comprehensive-analysis)\n- Number of objects: 1100\n- Number of attributes: 21\n- Class label: stress_level\n",
      "metadata": {}
    },
    {
      "cell_type": "markdown",
      "source": "#### attribute types:\n- anxiety_level:                  int64\n- self_esteem:                    int64\n- mental_health_history:           int64\n- depression:                     int64\n- headache:                        int64\n- blood_pressure:                  int64\n- sleep_quality:                  int64\n- breathing_problem:               int64\n- noise_level:                    int64\n- living_conditions:               int64\n- safety:                          int64\n- basic_needs:                     int64\n- academic_performance:            int64\n- study_load:                      int64\n- teacher_student_relationship:    int64\n- future_career_concerns:          int64\n- social_support:                  int64\n- peer_pressure:                   int64\n- extracurricular_activities:      int64\n- bullying:                        int64\n- stress_level:                    int64",
      "metadata": {}
    }
  ]
}
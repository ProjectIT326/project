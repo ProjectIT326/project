{
  "metadata": {
    "kernelspec": {
      "name": "python",
      "display_name": "Python (Pyodide)",
      "language": "python"
    },
    "language_info": {
      "name": ""
    }
  },
  "nbformat_minor": 4,
  "nbformat": 4,
  "cells": [
    {
      "cell_type": "markdown",
      "source": "# Problem",
      "metadata": {}
    },
    {
      "cell_type": "markdown",
      "source": "*  Student life is fraught with challenges that extend beyond academic responsibilities, encompassing social pressures, time management difficulties, and the need for personal development. The prevalent stress experienced by students can significantly hinder their mental health and academic performance. Despite this, there remains a lack of focused, data-driven analysis on the varied sources of this stress and their direct impacts on students' daily lives and educational outcomes.\r\n\r\n",
      "metadata": {}
    },
    {
      "cell_type": "markdown",
      "source": "# Data Mining Task\n",
      "metadata": {}
    },
    {
      "cell_type": "markdown",
      "source": "* The goal of collecting the dataset \"Student Stress Factors: A Comprehensive Analysis\" is likely to understand and analyze the factors contributing to stress among students. By gathering data on various aspects of students' lives, such as demographics, academic performance, lifestyle choices, and mental health indicators, the dataset aims to provide insights into the complexities of student stress. The ultimate objective may include identifying patterns, correlations, and potential predictors of stress, as well as informing interventions and strategies to support student well-being in educational settings.",
      "metadata": {}
    },
    {
      "cell_type": "code",
      "source": "1. Classification Task:\nGoal: Predict the \"Stress Level\" based on various factors such as anxiety, depression, academic performance, and social dynamics.\nClass Attribute: Stress Level (e.g., Low, Moderate, High — Depending on the scale provided in the dataset, this might need to be categorized if not already done).\nFeatures/Attributes: All other columns except \"Stress Level\".\n2. Clustering Task:\nGoal: Group students into clusters based on their responses to various stress-related factors to identify common stress profiles.\nFeatures/Attributes: All columns except \"Stress Level\" could be used to form clusters to identify patterns without predefined outcomes.\nThese tasks can help uncover underlying patterns in how stress factors affect different groups of students and predict stress levels based on measurable attributes, aiding in targeted interventions. Let's proceed with the analysis or further refine these tasks based on your specific goals. ​​\n",
      "metadata": {
        "trusted": true
      },
      "outputs": [],
      "execution_count": null
    },
    {
      "cell_type": "markdown",
      "source": "# Data",
      "metadata": {}
    },
    {
      "cell_type": "markdown",
      "source": "- [The source](https://www.kaggle.com/datasets/rxnach/student-stress-factors-a-comprehensive-analysis)\n- Number of objects: 1100\n- Number of attributes: 21\n- Class label: Stress Level",
      "metadata": {}
    },
    {
      "cell_type": "markdown",
      "source": "| Attribute Name                  | Description                                       | Range     | Attribute Type |\n|---------------------------------|---------------------------------------------------|-----------|----------------|\n| Anxiety Level                   | Intensity of anxiety symptoms                     | 0 to 21   | int64          |\n| Self Esteem                     | Overall subjective evaluation of one's own worth  | 0 to 30   | int64          |\n| Mental Health History           | History of mental health issues (0=No, 1=Yes)     | 0 to 1    | int64          |\n| Depression                      | Severity of depression symptoms                   | 0 to 27   | int64          |\n| Headache                        | Frequency or severity of headaches                | 0 to 5    | int64          |\n| Blood Pressure                  | Levels of blood pressure (1=Low, 2=Normal, 3=High)| 1 to 3    | int64          |\n| Sleep Quality                   | Perceived quality of sleep                        | 0 to 5    | int64          |\n| Breathing Problem               | Severity of breathing problems                    | 0 to 5    | int64          |\n| Noise Level                     | Level of noise in the environment                 | 0 to 5    | int64          |\n| Living Conditions               | Quality of living conditions                      | 0 to 5    | int64          |\n| Safety                          | Perception of safety                              | 0 to 5    | int64          |\n| Basic Needs                     | Fulfillment of basic needs                        | 0 to 5    | int64          |\n| Academic Performance            | Perception of academic performance                | 0 to 5    | int64          |\n| Study Load                      | Perceived workload from studies                   | 0 to 5    | int64          |\n| Teacher-Student Relationship    | Quality of teacher-student relationships          | 0 to 5    | int64          |\n| Future Career Concerns          | Level of concern about future career prospects    | 0 to 5    | int64          |\n| Social Support                  | Level of social support received                  | 0 to 3    | int64          |\n| Peer Pressure                   | Level of pressure felt from peers                 | 0 to 5    | int64          |\n| Extracurricular Activities      | Extent of participation in activities             | 0 to 5    | int64          |\n| Bullying                        | Presence and severity of bullying experiences     | 0 to 5    | int64          |\n| Stress Level                    | Overall level of stress experienced               | 0 to 2    | int64          |\n",
      "metadata": {}
    },
    {
      "cell_type": "markdown",
      "source": "* ### Missing Value",
      "metadata": {}
    },
    {
      "cell_type": "code",
      "source": "#missing value \nmissing_values = ds.isna()\nmissing_values_count = ds.isna().sum()\nprint(missing_values_count)",
      "metadata": {
        "trusted": true
      },
      "outputs": [],
      "execution_count": null
    },
    {
      "cell_type": "code",
      "source": "missing_values = df.isna()\n\nmissing_counts = missing_values.sum()\n\nrows_with_missing = df[df.isna().any(axis=1)]\n\nprint(\"Missing values in each column: \\n\",missing_counts);\n#print(missing_counts);\nprint(\"\\n Rows with missing values:\",rows_with_missing);\n#print(rows_with_missing);",
      "metadata": {
        "trusted": true
      },
      "outputs": [],
      "execution_count": null
    },
    {
      "cell_type": "markdown",
      "source": "* ### Statistical Summary",
      "metadata": {}
    },
    {
      "cell_type": "code",
      "source": "import matplotlib.pyplot as plt\n\nds = pd.read_csv('../dataset/Sampled_StressLevelDataset.csv' )\n\n#Statistical Summary\nprint(\"Statistical Summary:\")\nprint(ds.describe())\n",
      "metadata": {
        "trusted": true
      },
      "outputs": [],
      "execution_count": null
    },
    {
      "cell_type": "code",
      "source": "\n\n#statical summary \nsummary_stats=df.describe()\nprint(summary_stats)\n\nimport pandas as pd\nimport matplotlib.pyplot as plt\n\n\n# Plotting the summary statistics\n\nfig, axes = plt.subplots(nrows=2, ncols=3, figsize=(20, 10))\nfig.subplots_adjust(hspace=0.5, wspace=0.3)\nstats_to_plot = ['mean', 'std', '50%', 'min', 'max']\n\nfor i, stat in enumerate(stats_to_plot):\n    ax = axes.flat[i]\n    summary_stats.loc[stat].plot(kind='bar', ax=ax)\n    ax.set_title(stat)\n    ax.set_xticklabels(summary_stats.columns, rotation=45, ha='right')",
      "metadata": {
        "trusted": true
      },
      "outputs": [],
      "execution_count": null
    },
    {
      "cell_type": "markdown",
      "source": "* ### Outliers",
      "metadata": {}
    },
    {
      "cell_type": "code",
      "source": "import pandas as pd\nimport numpy as np\n\n\ndf = pd.read_csv('StressLevelcleaned_dataset.csv')\n\ndef count_outliers(column, threshold=3):\n    column_mean = column.mean()\n    column_std = column.std()\n    upper_bound = column_mean + threshold * column_std\n    lower_bound = column_mean - threshold * column_std\n    num_outliers = ((column > upper_bound) | (column < lower_bound)).sum()\n    return num_outliers\n\noutlier_counts = {}\nnumeric_columns = df.select_dtypes(include=[np.number]).columns\n\nfor column in numeric_columns:\n    num_outliers = count_outliers(df[column])\n    outlier_counts[column] = num_outliers\n\nrows_with_outliers = sum(outlier_counts.values())\n\nfor column, count in outlier_counts.items():\n    print(f\"Column: {column}, Number of outliers: {count}\")\n\nprint(f\"Total rows with outliers: {rows_with_outliers}\")",
      "metadata": {
        "trusted": true
      },
      "outputs": [],
      "execution_count": null
    },
    {
      "cell_type": "markdown",
      "source": "* ### Boxplot",
      "metadata": {}
    },
    {
      "cell_type": "code",
      "source": "import matplotlib.pyplot as plt\n\n# Filter out non-numeric columns\nnumeric_cols = df.select_dtypes(include=['float64', 'int64']).columns\n\n# Creating a box plot for each numeric column\nnum_plots = len(numeric_cols)\nfig, axes = plt.subplots(num_plots, 1, figsize=(10, num_plots*5))\n\nfor i, col in enumerate(numeric_cols):\n    df.boxplot(column=col, ax=axes[i], grid=False)\n    axes[i].set_title(col)\n\nplt.tight_layout()\nplt.show()",
      "metadata": {
        "trusted": true
      },
      "outputs": [],
      "execution_count": null
    },
    {
      "cell_type": "markdown",
      "source": "* ### Plotting Methods:",
      "metadata": {}
    },
    {
      "cell_type": "code",
      "source": "Graph show relation between stress level and academic performance\n-Based on The histogram and scatter that represent the relation between stress level and academic performance and by the grapgh we find out that the student with high academic level they have a high stress level\n\n# histogram represent the relation between stress level and academic performance\n\nplt.figure(figsize=(10, 6))\n\n# Overlaying the histograms of Stress Level and Academic Performance\nplt.hist(df['stress_level'], bins=20, color='skyblue', edgecolor='black', alpha=0.5, label='Stress Level')\nplt.hist(df['academic_performance'], bins=20, color='lightgreen', edgecolor='black', alpha=0.5, label='Academic Performance')\n\nplt.title('Distributions of Stress Level and Academic Performance')\nplt.xlabel('Value')\nplt.ylabel('Frequency')\nplt.legend()\nplt.show()",
      "metadata": {
        "trusted": true
      },
      "outputs": [],
      "execution_count": null
    },
    {
      "cell_type": "markdown",
      "source": "# Data preprocessing",
      "metadata": {}
    },
    {
      "cell_type": "markdown",
      "source": "# Data Mining Technique\n",
      "metadata": {}
    },
    {
      "cell_type": "markdown",
      "source": "# Evaluation and Comparison\n",
      "metadata": {}
    },
    {
      "cell_type": "markdown",
      "source": "# Findings",
      "metadata": {}
    },
    {
      "cell_type": "code",
      "source": "",
      "metadata": {
        "trusted": true
      },
      "outputs": [],
      "execution_count": null
    },
    {
      "cell_type": "markdown",
      "source": "# References",
      "metadata": {}
    },
    {
      "cell_type": "markdown",
      "source": "* https://www.kaggle.com/",
      "metadata": {}
    },
    {
      "cell_type": "code",
      "source": "",
      "metadata": {
        "trusted": true
      },
      "outputs": [],
      "execution_count": null
    }
  ]
}